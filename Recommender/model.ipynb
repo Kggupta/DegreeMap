{
 "cells": [
  {
   "cell_type": "code",
   "execution_count": 1,
   "metadata": {},
   "outputs": [
    {
     "name": "stderr",
     "output_type": "stream",
     "text": [
      "2023-07-13 15:44:54.826535: I tensorflow/core/platform/cpu_feature_guard.cc:193] This TensorFlow binary is optimized with oneAPI Deep Neural Network Library (oneDNN) to use the following CPU instructions in performance-critical operations:  AVX2 FMA\n",
      "To enable them in other operations, rebuild TensorFlow with the appropriate compiler flags.\n",
      "2023-07-13 15:44:55.500684: W tensorflow/compiler/xla/stream_executor/platform/default/dso_loader.cc:64] Could not load dynamic library 'libcudart.so.11.0'; dlerror: libcudart.so.11.0: cannot open shared object file: No such file or directory\n",
      "2023-07-13 15:44:55.500744: I tensorflow/compiler/xla/stream_executor/cuda/cudart_stub.cc:29] Ignore above cudart dlerror if you do not have a GPU set up on your machine.\n",
      "2023-07-13 15:44:57.739459: W tensorflow/compiler/xla/stream_executor/platform/default/dso_loader.cc:64] Could not load dynamic library 'libnvinfer.so.7'; dlerror: libnvinfer.so.7: cannot open shared object file: No such file or directory\n",
      "2023-07-13 15:44:57.740002: W tensorflow/compiler/xla/stream_executor/platform/default/dso_loader.cc:64] Could not load dynamic library 'libnvinfer_plugin.so.7'; dlerror: libnvinfer_plugin.so.7: cannot open shared object file: No such file or directory\n",
      "2023-07-13 15:44:57.740032: W tensorflow/compiler/tf2tensorrt/utils/py_utils.cc:38] TF-TRT Warning: Cannot dlopen some TensorRT libraries. If you would like to use Nvidia GPU with TensorRT, please make sure the missing libraries mentioned above are installed properly.\n"
     ]
    }
   ],
   "source": [
    "# imports \n",
    "\n",
    "# pip install --upgrade \"tensorflow<2.12,>=2.11.0\"\n",
    "# pip install --upgrade tensorflow-hub\n",
    "\n",
    "import tensorflow as tf\n",
    "import tensorflow_hub as hub\n",
    "import matplotlib.pyplot as plt\n",
    "import numpy as np\n",
    "import pandas as pd\n",
    "import re\n",
    "import json\n",
    "from collections import defaultdict"
   ]
  },
  {
   "cell_type": "code",
   "execution_count": 2,
   "metadata": {},
   "outputs": [],
   "source": [
    "# transform and prepare data \n",
    "\n",
    "pd.options.display.max_rows = 9999\n",
    "\n",
    "courseDF = pd.read_csv('data/raw.csv', on_bad_lines='skip')\n",
    "\n",
    "prereqDF = pd.read_csv('data/raw_prereq.csv', on_bad_lines='skip')\n",
    "antireqDF = pd.read_csv('data/raw_antireq.csv', on_bad_lines='skip')\n",
    "\n",
    "courseCodesDF = courseDF.iloc[:,0] + courseDF.iloc[:,1]\n",
    "descriptionsDF = courseDF.iloc[:,3]\n",
    "\n",
    "# undergrad data\n",
    "descriptionsUG = [] \n",
    "courseCodesUG = [] \n",
    "\n",
    "# grad data\n",
    "descriptionsG = [] \n",
    "courseCodesG = [] \n",
    "\n",
    "# pre/anti req maps\n",
    "prereqMap = defaultdict(list)\n",
    "antireqMap = defaultdict(list)\n",
    "\n",
    "# transform course data into ingestable format\n",
    "for index, row in courseDF.iterrows():\n",
    "    formattedCourseNum = \"\".join(re.findall('[0-9]+', row['course_number']))\n",
    "    fullCourseName = str(row['subject'] + row['course_number'])\n",
    "    description = str(row['description'])\n",
    "\n",
    "    if len(formattedCourseNum) > 0 and int(formattedCourseNum) > 499:\n",
    "        descriptionsG.append(description)\n",
    "        courseCodesG.append(fullCourseName)\n",
    "    elif len(formattedCourseNum) > 0 and int(formattedCourseNum) <= 499:\n",
    "        descriptionsUG.append(description)\n",
    "        courseCodesUG.append(fullCourseName)\n",
    "\n",
    "# transform pre req data into ingestable format\n",
    "for index, row in prereqDF.iterrows():\n",
    "    course = row[\"subject\"] + str(row[\"course_number\"])\n",
    "    prereq = row[\"pre_requisite_subject\"] + str(row[\"pre_requisite_number\"])\n",
    "\n",
    "    prereqMap[course].append(prereq) \n",
    "\n",
    "# transform anti req data into ingestable format\n",
    "for index, row in antireqDF.iterrows():\n",
    "    course = row[\"subject\"] + str(row[\"course_number\"])\n",
    "    antireq = row[\"anti_requisite_subject\"] + str(row[\"anti_requisite_number\"])\n",
    "\n",
    "    antireqMap[antireq].append(course) \n"
   ]
  },
  {
   "cell_type": "code",
   "execution_count": 3,
   "metadata": {},
   "outputs": [
    {
     "name": "stderr",
     "output_type": "stream",
     "text": [
      "2023-07-13 15:46:08.211073: W tensorflow/compiler/xla/stream_executor/platform/default/dso_loader.cc:64] Could not load dynamic library 'libcuda.so.1'; dlerror: libcuda.so.1: cannot open shared object file: No such file or directory\n",
      "2023-07-13 15:46:08.211407: W tensorflow/compiler/xla/stream_executor/cuda/cuda_driver.cc:265] failed call to cuInit: UNKNOWN ERROR (303)\n",
      "2023-07-13 15:46:08.211448: I tensorflow/compiler/xla/stream_executor/cuda/cuda_diagnostics.cc:156] kernel driver does not appear to be running on this host (mega): /proc/driver/nvidia/version does not exist\n",
      "2023-07-13 15:46:08.212057: I tensorflow/core/platform/cpu_feature_guard.cc:193] This TensorFlow binary is optimized with oneAPI Deep Neural Network Library (oneDNN) to use the following CPU instructions in performance-critical operations:  AVX2 FMA\n",
      "To enable them in other operations, rebuild TensorFlow with the appropriate compiler flags.\n"
     ]
    },
    {
     "name": "stdout",
     "output_type": "stream",
     "text": [
      "module https://tfhub.dev/google/universal-sentence-encoder/4 loaded\n"
     ]
    }
   ],
   "source": [
    "# load Universal Sentence Embedding model from tensorflow hub, this can take over 1 minute to complete\n",
    "\n",
    "module_url = \"https://tfhub.dev/google/universal-sentence-encoder/4\"\n",
    "model = hub.load(module_url)\n",
    "print (\"module %s loaded\" % module_url)\n",
    "def embed(input):\n",
    "  return model(input)"
   ]
  },
  {
   "cell_type": "code",
   "execution_count": 16,
   "metadata": {},
   "outputs": [
    {
     "name": "stderr",
     "output_type": "stream",
     "text": [
      "2023-07-13 16:07:13.984030: W tensorflow/tsl/framework/cpu_allocator_impl.cc:82] Allocation of 378748160 exceeds 10% of free system memory.\n"
     ]
    }
   ],
   "source": [
    "# Extract meaning from data\n",
    "\n",
    "rankingsMapUG = dict()\n",
    "rankingsMapG = dict()\n",
    "\n",
    "def extractMeaning(data, dataLabels, output):\n",
    "  dataEmbeddings = embed(data)\n",
    "  populateRankings(dataLabels, dataEmbeddings, output)\n",
    "\n",
    "def populateRankings(labels, features, output):\n",
    "    corr = np.inner(features, features)\n",
    "    for i,row in enumerate(corr):\n",
    "      currCourse = labels[i] \n",
    "      \n",
    "      ranks = []\n",
    "      for j, col in enumerate(row):\n",
    "        relativeCourse = labels[j]\n",
    "        if col < 0.95 and col > 0.2 and relativeCourse not in antireqMap[currCourse]:\n",
    "          ranks.append((relativeCourse, col * 1.2 if currCourse in prereqMap[relativeCourse] else col))\n",
    "      \n",
    "      top = sorted(ranks, key=lambda x: x[1], reverse=True)\n",
    "\n",
    "      k = 50\n",
    "      output[currCourse] = top[:k] # limit storage to top 50 courses \n",
    "\n",
    "extractMeaning(descriptionsUG,courseCodesUG, rankingsMapUG)\n",
    "extractMeaning(descriptionsG,courseCodesG, rankingsMapG)"
   ]
  },
  {
   "cell_type": "code",
   "execution_count": 17,
   "metadata": {},
   "outputs": [],
   "source": [
    "# store extracted data into persistent format\n",
    "\n",
    "# transform to JSON storable format\n",
    "outputUG = dict()\n",
    "for key in rankingsMapUG:\n",
    "    outputUG[key] = []\n",
    "    for courseName, simVal in rankingsMapUG[key]:\n",
    "        outputUG[key].append([courseName, str(simVal)])\n",
    "\n",
    "outputG = dict()\n",
    "for key in rankingsMapG:\n",
    "    outputG[key] = []\n",
    "    for courseName, simVal in rankingsMapG[key]:\n",
    "        outputG[key].append([courseName, str(simVal)])\n",
    "\n",
    "\n",
    "with open(\"output/undergrad_ranks.json\", \"w\") as outfile:\n",
    "    json.dump(outputUG, outfile)\n",
    "\n",
    "\n",
    "with open(\"output/grad_ranks.json\", \"w\") as outfile:\n",
    "    json.dump(outputG, outfile)\n",
    "    \n"
   ]
  },
  {
   "cell_type": "code",
   "execution_count": 19,
   "metadata": {},
   "outputs": [
    {
     "name": "stdout",
     "output_type": "stream",
     "text": [
      "('CS457', '0.6486266')\n",
      "('CS448', '0.6235086')\n",
      "('CS451', '0.60912204')\n",
      "('CS431', '0.60794425')\n",
      "('CS456', '0.5285964')\n",
      "('CS450', '0.52484745')\n",
      "('CS446', '0.5175047')\n",
      "('CS447', '0.51427215')\n",
      "('CS452', '0.51314104')\n",
      "('CS445', '0.49388883')\n",
      "('CS486', '0.47623995')\n"
     ]
    }
   ],
   "source": [
    "# example usage of data  \n",
    "\n",
    "with open(\"output/undergrad_ranks.json\", \"r\") as infile:\n",
    "    resultsUG = json.load(infile)    \n",
    "\n",
    "with open(\"output/grad_ranks.json\", \"r\") as infile:\n",
    "    resultsG = json.load(infile)    \n",
    "\n",
    "sub = \"CS\"\n",
    "num = 454\n",
    "course = sub + str(num)\n",
    "\n",
    "#results = rankingsMapUG[course]\n",
    "results = resultsUG[course]\n",
    "\n",
    "c = 10\n",
    "\n",
    "for resCourse,val in results:\n",
    "    if resCourse.startswith(sub) and int(\"\".join(re.findall('[0-9]+', resCourse)))  > (num // 100) * 100:\n",
    "        print((resCourse,val))\n",
    "        c -= 1\n",
    "        if c < 0:\n",
    "            break\n",
    "\n",
    "\n"
   ]
  }
 ],
 "metadata": {
  "kernelspec": {
   "display_name": "Python 3",
   "language": "python",
   "name": "python3"
  },
  "language_info": {
   "codemirror_mode": {
    "name": "ipython",
    "version": 3
   },
   "file_extension": ".py",
   "mimetype": "text/x-python",
   "name": "python",
   "nbconvert_exporter": "python",
   "pygments_lexer": "ipython3",
   "version": "3.10.6"
  },
  "orig_nbformat": 4
 },
 "nbformat": 4,
 "nbformat_minor": 2
}
